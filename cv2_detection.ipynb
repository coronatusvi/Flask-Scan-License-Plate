{
 "cells": [
  {
   "cell_type": "code",
   "execution_count": 1,
   "metadata": {},
   "outputs": [],
   "source": [
    "import easyocr\n",
    "import re"
   ]
  },
  {
   "cell_type": "code",
   "execution_count": 2,
   "metadata": {},
   "outputs": [],
   "source": [
    "import cv2\n",
    "import matplotlib.pyplot as plt\n",
    "\n",
    "def imshow(title=\"\", image=None, is_gray = False):\n",
    "  if is_gray:\n",
    "    plt.imshow(image, cmap='gray')\n",
    "  else:\n",
    "    image = cv2.cvtColor(image,cv2.COLOR_BGR2RGB)\n",
    "    plt.imshow(image)\n",
    "  plt.title(title)\n",
    "  plt.show()    "
   ]
  },
  {
   "cell_type": "code",
   "execution_count": 3,
   "metadata": {},
   "outputs": [],
   "source": [
    "import os"
   ]
  },
  {
   "cell_type": "code",
   "execution_count": 4,
   "metadata": {},
   "outputs": [
    {
     "name": "stderr",
     "output_type": "stream",
     "text": [
      "Neither CUDA nor MPS are available - defaulting to CPU. Note: This module is much faster with a GPU.\n"
     ]
    },
    {
     "ename": "FileNotFoundError",
     "evalue": "[Errno 2] No such file or directory: '/content/images'",
     "output_type": "error",
     "traceback": [
      "\u001b[0;31m---------------------------------------------------------------------------\u001b[0m",
      "\u001b[0;31mFileNotFoundError\u001b[0m                         Traceback (most recent call last)",
      "Cell \u001b[0;32mIn[4], line 29\u001b[0m\n\u001b[1;32m     27\u001b[0m \u001b[38;5;66;03m# Update the path to the directory containing your images\u001b[39;00m\n\u001b[1;32m     28\u001b[0m images_directory \u001b[38;5;241m=\u001b[39m \u001b[38;5;124m\"\u001b[39m\u001b[38;5;124m/content/images\u001b[39m\u001b[38;5;124m\"\u001b[39m  \u001b[38;5;66;03m# Thay đổi đường dẫn này nếu cần\u001b[39;00m\n\u001b[0;32m---> 29\u001b[0m \u001b[43mprocess_images_in_directory\u001b[49m\u001b[43m(\u001b[49m\u001b[43mimages_directory\u001b[49m\u001b[43m)\u001b[49m\n",
      "Cell \u001b[0;32mIn[4], line 20\u001b[0m, in \u001b[0;36mprocess_images_in_directory\u001b[0;34m(directory_path)\u001b[0m\n\u001b[1;32m     17\u001b[0m \u001b[38;5;28;01mdef\u001b[39;00m \u001b[38;5;21mprocess_images_in_directory\u001b[39m(directory_path):\n\u001b[1;32m     18\u001b[0m     reader \u001b[38;5;241m=\u001b[39m easyocr\u001b[38;5;241m.\u001b[39mReader([\u001b[38;5;124m'\u001b[39m\u001b[38;5;124men\u001b[39m\u001b[38;5;124m'\u001b[39m])\n\u001b[0;32m---> 20\u001b[0m     \u001b[38;5;28;01mfor\u001b[39;00m filename \u001b[38;5;129;01min\u001b[39;00m \u001b[43mos\u001b[49m\u001b[38;5;241;43m.\u001b[39;49m\u001b[43mlistdir\u001b[49m\u001b[43m(\u001b[49m\u001b[43mdirectory_path\u001b[49m\u001b[43m)\u001b[49m:\n\u001b[1;32m     21\u001b[0m         \u001b[38;5;28;01mif\u001b[39;00m filename\u001b[38;5;241m.\u001b[39mlower()\u001b[38;5;241m.\u001b[39mendswith((\u001b[38;5;124m'\u001b[39m\u001b[38;5;124m.jpeg\u001b[39m\u001b[38;5;124m'\u001b[39m, \u001b[38;5;124m'\u001b[39m\u001b[38;5;124m.jpg\u001b[39m\u001b[38;5;124m'\u001b[39m, \u001b[38;5;124m'\u001b[39m\u001b[38;5;124m.png\u001b[39m\u001b[38;5;124m'\u001b[39m)):\n\u001b[1;32m     22\u001b[0m             image_path \u001b[38;5;241m=\u001b[39m os\u001b[38;5;241m.\u001b[39mpath\u001b[38;5;241m.\u001b[39mjoin(directory_path, filename)\n",
      "\u001b[0;31mFileNotFoundError\u001b[0m: [Errno 2] No such file or directory: '/content/images'"
     ]
    }
   ],
   "source": [
    "def is_license_plate(text):\n",
    "    pattern = r'\\b\\d{2}-[A-Z]{1}\\d{1}\\d{3}[\\.\\-]?\\d{2}\\b'\n",
    "    return bool(re.search(pattern, text))\n",
    "\n",
    "def process_text(text):\n",
    "    # Loại bỏ khoảng trắng và ký tự xuống dòng thừa\n",
    "    cleaned_text = re.sub(r'[\\s\\n\\r]+', '', text)\n",
    "\n",
    "    for i in range(len(cleaned_text) - 1):\n",
    "        substring = cleaned_text[i:i+12]\n",
    "        if is_license_plate(substring):\n",
    "            print(f\" => Detected License Plate Text: {substring}\")\n",
    "            return\n",
    "    print(\" => Not a license plate\")\n",
    "\n",
    "\n",
    "def process_images_in_directory(directory_path):\n",
    "    reader = easyocr.Reader(['en'])\n",
    "\n",
    "    for filename in os.listdir(directory_path):\n",
    "        if filename.lower().endswith(('.jpeg', '.jpg', '.png')):\n",
    "            image_path = os.path.join(directory_path, filename)\n",
    "            print(f\"Processing {image_path}\")\n",
    "            result = reader.readtext(data)\n",
    "            text = \" \".join([res[1] for res in result])\n",
    "\n",
    "# Update the path to the directory containing your images\n",
    "images_directory = \"/content/images\"  # Thay đổi đường dẫn này nếu cần\n",
    "process_images_in_directory(images_directory)"
   ]
  },
  {
   "cell_type": "code",
   "execution_count": null,
   "metadata": {},
   "outputs": [],
   "source": [
    "# Xử lý từng tệp tin đã tải lên\n",
    "for filename, data in uploaded.items():\n",
    "    print(f\"Processing {filename}\")\n",
    "    result = reader.readtext(data)\n",
    "    text = \" \".join([res[1] for res in result])\n",
    "    print(\"Detected Text:\", text)\n",
    "    process_text(text)\n",
    "    image = cv2.imread(\"/content/\" + filename)\n",
    "    titleImage = \"Image \" + \" => \" + text\n",
    "    imshow(titleImage, image)"
   ]
  },
  {
   "cell_type": "code",
   "execution_count": null,
   "metadata": {},
   "outputs": [],
   "source": [
    "def is_license_plate(text):\n",
    "    pattern = r'\\b\\d{2}-[A-Z]{1}\\d{1}\\d{3}[\\.\\-]?\\d{2}\\b'\n",
    "    return bool(re.search(pattern, text))\n",
    "\n",
    "def process_text(text):\n",
    "    # Loại bỏ khoảng trắng và ký tự xuống dòng thừa\n",
    "    cleaned_text = re.sub(r'[\\s\\n\\r]+', '', text)\n",
    "\n",
    "    for i in range(len(cleaned_text) - 1):\n",
    "        substring = cleaned_text[i:i+12]\n",
    "        if is_license_plate(substring):\n",
    "            print(f\" => Detected License Plate Text: {substring}\")\n",
    "            return\n",
    "    print(\" => Not a license plate\", text)\n",
    "\n",
    "def process_images_in_directory(directory_path):\n",
    "    reader = easyocr.Reader(['en'])\n",
    "\n",
    "    for filename in os.listdir(directory_path):\n",
    "        if filename.lower().endswith(('.jpeg', '.jpg', '.png')):\n",
    "            image_path = os.path.join(directory_path, filename)\n",
    "            print(f\"Processing {image_path}\")\n",
    "            result = reader.readtext(image_path)\n",
    "            text = \" \".join([res[1] for res in result])\n",
    "            process_text(text)\n",
    "\n",
    "# Update the path to the directory containing your images\n",
    "images_directory = \"images\"  # Thay đổi đường dẫn này nếu cần\n",
    "process_images_in_directory(images_directory)"
   ]
  }
 ],
 "metadata": {
  "kernelspec": {
   "display_name": "Python 3",
   "language": "python",
   "name": "python3"
  },
  "language_info": {
   "codemirror_mode": {
    "name": "ipython",
    "version": 3
   },
   "file_extension": ".py",
   "mimetype": "text/x-python",
   "name": "python",
   "nbconvert_exporter": "python",
   "pygments_lexer": "ipython3",
   "version": "3.11.9"
  }
 },
 "nbformat": 4,
 "nbformat_minor": 2
}
