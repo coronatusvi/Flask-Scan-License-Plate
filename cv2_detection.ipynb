{
 "cells": [
  {
   "cell_type": "code",
   "execution_count": null,
   "metadata": {},
   "outputs": [],
   "source": [
    "import cv2\n",
    "import matplotlib.pyplot as plt\n",
    "import numpy as np\n",
    "\n",
    "def imshow(title=\"\", image=None, is_gray = False):\n",
    "  if is_gray:\n",
    "    plt.imshow(image, cmap='gray')\n",
    "  else:\n",
    "    image = cv2.cvtColor(image,cv2.COLOR_BGR2RGB)\n",
    "    plt.imshow(image)\n",
    "  plt.title(title)\n",
    "  plt.show()\n",
    "\n",
    "document = cv2.imread(\"/content/VIDANGQUANG_THE_SINH_VIEN.jpeg\")\n",
    "imshow(\"Document\", document)\n",
    "\n",
    "gray = cv2.cvtColor(document,cv2.COLOR_BGR2GRAY)\n",
    "blurred = cv2.GaussianBlur(gray,(3,3),0)\n",
    "edged = cv2.Canny(blurred,30,200)\n",
    "imshow(\"edged\", edged)\n",
    "\n",
    "contours,_ = cv2.findContours(edged,cv2.RETR_EXTERNAL,cv2.CHAIN_APPROX_SIMPLE)\n",
    "copy = document.copy()\n",
    "cv2.drawContours(copy,contours,-1,(0,255,0),thickness=2)\n",
    "imshow(\"Contours\",copy)\n",
    "\n",
    "sorted_contours = sorted(contours,key=cv2.contourArea, reverse=True)\n",
    "print(\"Number of contours: \",str(len(contours)))\n",
    "print(\"Number of soorted contours: \",str(len(sorted_contours)))\n",
    "print(contours[0].shape)\n",
    "print(sorted_contours[0].shape)\n",
    "\n",
    "for cnt in sorted_contours:\n",
    "  perimeter = cv2.arcLength(cnt, True)\n",
    "  approx = cv2.approxPolyDP(cnt, 0.05*perimeter, True)\n",
    "  if(len(approx)==4):\n",
    "    break\n"
   ]
  }
 ],
 "metadata": {
  "language_info": {
   "name": "python"
  }
 },
 "nbformat": 4,
 "nbformat_minor": 2
}
